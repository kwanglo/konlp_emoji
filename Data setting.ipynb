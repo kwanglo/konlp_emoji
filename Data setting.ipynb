{
 "cells": [
  {
   "cell_type": "code",
   "execution_count": 17,
   "metadata": {},
   "outputs": [],
   "source": [
    "import pandas as pd\n",
    "happy1_tweets = pd.read_csv(\"Downloads/dataset/happy1_tweets.csv\", header = 0)\n",
    "angry_tweets = pd.read_csv(\"Downloads/dataset/angry_tweets.csv\", header = 0)\n",
    "fear_tweets = pd.read_csv(\"Downloads/dataset/fear_tweets.csv\", header = 0)\n",
    "sad_tweets = pd.read_csv(\"Downloads/dataset/sad_tweets.csv\", header = 0)"
   ]
  },
  {
   "cell_type": "code",
   "execution_count": 18,
   "metadata": {},
   "outputs": [],
   "source": [
    "happy1_tweets[\"label\"] = \"happy\"\n",
    "angry_tweets[\"label\"] = \"angry\"\n",
    "fear_tweets[\"label\"] = \"fear\"\n",
    "sad_tweets[\"label\"] = \"sad\""
   ]
  },
  {
   "cell_type": "code",
   "execution_count": 20,
   "metadata": {},
   "outputs": [
    {
     "data": {
      "text/plain": [
       "Index(['Unnamed: 0', 'rt', 'tweet', 'label'], dtype='object')"
      ]
     },
     "execution_count": 20,
     "metadata": {},
     "output_type": "execute_result"
    }
   ],
   "source": [
    "happy1_tweets.keys()"
   ]
  },
  {
   "cell_type": "code",
   "execution_count": 30,
   "metadata": {},
   "outputs": [],
   "source": [
    "angry = angry.drop('Unnamed: 0', axis = 1) \n",
    "fear = fear.drop('Unnamed: 0', axis = 1) \n",
    "sad = sad.drop('Unnamed: 0', axis = 1) "
   ]
  },
  {
   "cell_type": "code",
   "execution_count": 31,
   "metadata": {},
   "outputs": [
    {
     "data": {
      "text/html": [
       "<div>\n",
       "<style scoped>\n",
       "    .dataframe tbody tr th:only-of-type {\n",
       "        vertical-align: middle;\n",
       "    }\n",
       "\n",
       "    .dataframe tbody tr th {\n",
       "        vertical-align: top;\n",
       "    }\n",
       "\n",
       "    .dataframe thead th {\n",
       "        text-align: right;\n",
       "    }\n",
       "</style>\n",
       "<table border=\"1\" class=\"dataframe\">\n",
       "  <thead>\n",
       "    <tr style=\"text-align: right;\">\n",
       "      <th></th>\n",
       "      <th>tweet</th>\n",
       "      <th>label</th>\n",
       "    </tr>\n",
       "  </thead>\n",
       "  <tbody>\n",
       "    <tr>\n",
       "      <th>0</th>\n",
       "      <td>네코제에서 저를보고 미소짓는분들 몇계셧는데 뭐에요 ??  무슨이유죠....\\r\\n왜...</td>\n",
       "      <td>fear</td>\n",
       "    </tr>\n",
       "    <tr>\n",
       "      <th>1</th>\n",
       "      <td>...진 본체도 괜찮은거 맞나요</td>\n",
       "      <td>fear</td>\n",
       "    </tr>\n",
       "    <tr>\n",
       "      <th>2</th>\n",
       "      <td>Oppa, 나에게 격려해라. 오늘 나는 시험에 응한다. \\r\\n@B_hundred_...</td>\n",
       "      <td>fear</td>\n",
       "    </tr>\n",
       "    <tr>\n",
       "      <th>3</th>\n",
       "      <td>이거사고싶은데가격이</td>\n",
       "      <td>fear</td>\n",
       "    </tr>\n",
       "    <tr>\n",
       "      <th>4</th>\n",
       "      <td>OMG의 오빠 정말 잘 생긴 것입니다</td>\n",
       "      <td>fear</td>\n",
       "    </tr>\n",
       "  </tbody>\n",
       "</table>\n",
       "</div>"
      ],
      "text/plain": [
       "                                               tweet label\n",
       "0  네코제에서 저를보고 미소짓는분들 몇계셧는데 뭐에요 ??  무슨이유죠....\\r\\n왜...  fear\n",
       "1                                  ...진 본체도 괜찮은거 맞나요  fear\n",
       "2  Oppa, 나에게 격려해라. 오늘 나는 시험에 응한다. \\r\\n@B_hundred_...  fear\n",
       "3                                         이거사고싶은데가격이  fear\n",
       "4                               OMG의 오빠 정말 잘 생긴 것입니다  fear"
      ]
     },
     "execution_count": 31,
     "metadata": {},
     "output_type": "execute_result"
    }
   ],
   "source": [
    "happy.head()\n",
    "fear.head()"
   ]
  },
  {
   "cell_type": "code",
   "execution_count": 34,
   "metadata": {},
   "outputs": [],
   "source": [
    "from sklearn.model_selection import train_test_split\n",
    "\n",
    "happy_train_set, happy_test_set = train_test_split(happy, test_size = 0.3)\n",
    "fear_train_set, fear_test_set = train_test_split(fear, test_size = 0.3)\n",
    "angry_train_set, angry_test_set = train_test_split(angry, test_size = 0.3)\n",
    "sad_train_set, sad_test_set = train_test_split(sad, test_size = 0.3)"
   ]
  },
  {
   "cell_type": "code",
   "execution_count": 48,
   "metadata": {},
   "outputs": [],
   "source": [
    "train_data = pd.concat([happy_train_set, fear_train_set,angry_train_set,sad_train_set],ignore_index=True)\n",
    "\n",
    "test_data = pd.concat([happy_test_set, fear_test_set,angry_test_set,sad_test_set],ignore_index=True)"
   ]
  },
  {
   "cell_type": "code",
   "execution_count": 49,
   "metadata": {},
   "outputs": [],
   "source": [
    "train_data, valid_data = train_test_split(train_data, test_size = 0.3)\n"
   ]
  },
  {
   "cell_type": "code",
   "execution_count": 53,
   "metadata": {},
   "outputs": [],
   "source": [
    "train_data.to_csv(\"four_train_data.csv\",encoding=\"utf-8-sig\")\n",
    "valid_data.to_csv(\"four_valid_data.csv\",encoding=\"utf-8-sig\")\n",
    "test_data.to_csv(\"four_test_data.csv\",encoding=\"utf-8-sig\")"
   ]
  },
  {
   "cell_type": "code",
   "execution_count": 51,
   "metadata": {},
   "outputs": [
    {
     "data": {
      "text/html": [
       "<div>\n",
       "<style scoped>\n",
       "    .dataframe tbody tr th:only-of-type {\n",
       "        vertical-align: middle;\n",
       "    }\n",
       "\n",
       "    .dataframe tbody tr th {\n",
       "        vertical-align: top;\n",
       "    }\n",
       "\n",
       "    .dataframe thead th {\n",
       "        text-align: right;\n",
       "    }\n",
       "</style>\n",
       "<table border=\"1\" class=\"dataframe\">\n",
       "  <thead>\n",
       "    <tr style=\"text-align: right;\">\n",
       "      <th></th>\n",
       "      <th>tweet</th>\n",
       "      <th>label</th>\n",
       "    </tr>\n",
       "  </thead>\n",
       "  <tbody>\n",
       "    <tr>\n",
       "      <th>28812</th>\n",
       "      <td>어떻게 각색을 하는데 더구리게\\r\\n할수가 있냐....\\r\\n신선한건 다쳐내고 진부...</td>\n",
       "      <td>sad</td>\n",
       "    </tr>\n",
       "    <tr>\n",
       "      <th>1640</th>\n",
       "      <td>뮤지컬 엑스칼리버 DK 도겸 회차 양도 \\r\\n\\r\\n6/25(화) 7시 1층 B구...</td>\n",
       "      <td>happy</td>\n",
       "    </tr>\n",
       "    <tr>\n",
       "      <th>17974</th>\n",
       "      <td>피치\\r\\n 사랑의 멋짐을 모르는 당신이 불쌍해요!라는 명대사가 있지요 웨딩피치=사...</td>\n",
       "      <td>fear</td>\n",
       "    </tr>\n",
       "    <tr>\n",
       "      <th>16754</th>\n",
       "      <td>아 맞 다 그 랫 지 수 술 할 정 도 라 고 ? !</td>\n",
       "      <td>fear</td>\n",
       "    </tr>\n",
       "    <tr>\n",
       "      <th>14514</th>\n",
       "      <td>어머... 그래요</td>\n",
       "      <td>fear</td>\n",
       "    </tr>\n",
       "  </tbody>\n",
       "</table>\n",
       "</div>"
      ],
      "text/plain": [
       "                                                   tweet  label\n",
       "28812  어떻게 각색을 하는데 더구리게\\r\\n할수가 있냐....\\r\\n신선한건 다쳐내고 진부...    sad\n",
       "1640   뮤지컬 엑스칼리버 DK 도겸 회차 양도 \\r\\n\\r\\n6/25(화) 7시 1층 B구...  happy\n",
       "17974  피치\\r\\n 사랑의 멋짐을 모르는 당신이 불쌍해요!라는 명대사가 있지요 웨딩피치=사...   fear\n",
       "16754                     아 맞 다 그 랫 지 수 술 할 정 도 라 고 ? !    fear\n",
       "14514                                          어머... 그래요   fear"
      ]
     },
     "execution_count": 51,
     "metadata": {},
     "output_type": "execute_result"
    }
   ],
   "source": [
    "valid_data.head()"
   ]
  },
  {
   "cell_type": "code",
   "execution_count": 4,
   "metadata": {},
   "outputs": [],
   "source": [
    "import pandas as pd\n",
    "total_data = pd.read_csv(\"./tweets_data/tweet_train.csv\", header = 0)"
   ]
  },
  {
   "cell_type": "code",
   "execution_count": 5,
   "metadata": {},
   "outputs": [
    {
     "data": {
      "text/html": [
       "<div>\n",
       "<style scoped>\n",
       "    .dataframe tbody tr th:only-of-type {\n",
       "        vertical-align: middle;\n",
       "    }\n",
       "\n",
       "    .dataframe tbody tr th {\n",
       "        vertical-align: top;\n",
       "    }\n",
       "\n",
       "    .dataframe thead th {\n",
       "        text-align: right;\n",
       "    }\n",
       "</style>\n",
       "<table border=\"1\" class=\"dataframe\">\n",
       "  <thead>\n",
       "    <tr style=\"text-align: right;\">\n",
       "      <th></th>\n",
       "      <th>Unnamed: 0</th>\n",
       "      <th>tweet</th>\n",
       "      <th>label</th>\n",
       "    </tr>\n",
       "  </thead>\n",
       "  <tbody>\n",
       "    <tr>\n",
       "      <th>0</th>\n",
       "      <td>0</td>\n",
       "      <td>부산막이요</td>\n",
       "      <td>1</td>\n",
       "    </tr>\n",
       "    <tr>\n",
       "      <th>1</th>\n",
       "      <td>1</td>\n",
       "      <td>우우ㅠㅠ그렇쿤ㅠㅠ 알쏘 이따 행사장에서 보자~!</td>\n",
       "      <td>1</td>\n",
       "    </tr>\n",
       "    <tr>\n",
       "      <th>2</th>\n",
       "      <td>2</td>\n",
       "      <td>SoldierField 공연을 축하하는 의미로 라디오에 작은시가 재생될 수 있도록\\...</td>\n",
       "      <td>1</td>\n",
       "    </tr>\n",
       "    <tr>\n",
       "      <th>3</th>\n",
       "      <td>3</td>\n",
       "      <td>아마도 칸라라는 존재가 누나 곁에 있다는 것을 알지만, 칸라라는 사람은 모를 것같아...</td>\n",
       "      <td>1</td>\n",
       "    </tr>\n",
       "    <tr>\n",
       "      <th>4</th>\n",
       "      <td>4</td>\n",
       "      <td>히히 맞아</td>\n",
       "      <td>1</td>\n",
       "    </tr>\n",
       "  </tbody>\n",
       "</table>\n",
       "</div>"
      ],
      "text/plain": [
       "   Unnamed: 0                                              tweet  label\n",
       "0           0                                              부산막이요      1\n",
       "1           1                         우우ㅠㅠ그렇쿤ㅠㅠ 알쏘 이따 행사장에서 보자~!      1\n",
       "2           2  SoldierField 공연을 축하하는 의미로 라디오에 작은시가 재생될 수 있도록\\...      1\n",
       "3           3  아마도 칸라라는 존재가 누나 곁에 있다는 것을 알지만, 칸라라는 사람은 모를 것같아...      1\n",
       "4           4                                              히히 맞아      1"
      ]
     },
     "execution_count": 5,
     "metadata": {},
     "output_type": "execute_result"
    }
   ],
   "source": [
    "total_data.head()"
   ]
  },
  {
   "cell_type": "code",
   "execution_count": 17,
   "metadata": {},
   "outputs": [
    {
     "data": {
      "text/plain": [
       "98681"
      ]
     },
     "execution_count": 17,
     "metadata": {},
     "output_type": "execute_result"
    }
   ],
   "source": [
    "len(total_data)"
   ]
  },
  {
   "cell_type": "code",
   "execution_count": 19,
   "metadata": {},
   "outputs": [],
   "source": [
    "from sklearn.model_selection import train_test_split\n",
    "train_data_tweet, test_data_tweet = train_test_split(total_data, test_size = 0.3)"
   ]
  },
  {
   "cell_type": "code",
   "execution_count": 20,
   "metadata": {},
   "outputs": [],
   "source": [
    "train_data_tweet.to_csv(\"./tweets_data/train_data_tweet.csv\",encoding=\"utf-8-sig\")\n",
    "test_data_tweet.to_csv(\"./tweets_data/test_data_tweet.csv\",encoding=\"utf-8-sig\")"
   ]
  },
  {
   "cell_type": "code",
   "execution_count": null,
   "metadata": {},
   "outputs": [],
   "source": []
  }
 ],
 "metadata": {
  "kernelspec": {
   "display_name": "Python 3",
   "language": "python",
   "name": "python3"
  },
  "language_info": {
   "codemirror_mode": {
    "name": "ipython",
    "version": 3
   },
   "file_extension": ".py",
   "mimetype": "text/x-python",
   "name": "python",
   "nbconvert_exporter": "python",
   "pygments_lexer": "ipython3",
   "version": "3.7.1"
  }
 },
 "nbformat": 4,
 "nbformat_minor": 2
}
